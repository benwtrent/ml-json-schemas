{
 "cells": [
  {
   "cell_type": "code",
   "execution_count": 1,
   "metadata": {},
   "outputs": [],
   "source": [
    "from jsonschema import validate\n",
    "import simplejson as json"
   ]
  },
  {
   "cell_type": "code",
   "execution_count": 40,
   "metadata": {
    "scrolled": false
   },
   "outputs": [],
   "source": [
    "with open(\"schemas/definition.schema.json\", 'r') as f:\n",
    "    schema_data = f.read()\n",
    "schema = json.loads(schema_data)\n",
    "\n",
    "with open(\"example.json\", \"r\") as f:\n",
    "    example_data = f.read()\n",
    "example = json.loads(example_data)    \n",
    "\n",
    "\n",
    "\n",
    "validate(example, schema)"
   ]
  },
  {
   "cell_type": "markdown",
   "metadata": {},
   "source": [
    "pre-processing: [\n",
    "{\"one_hot_encoding\": {\"field\": \"fieldName\", \"hot_map\":{CODING_MAP}}},\n",
    "{\"one_hot_encoding\": {\"field\": \"fieldName2\", \"hot_map\":{CODING_MAP}}}\n",
    "]"
   ]
  }
 ],
 "metadata": {
  "kernelspec": {
   "display_name": "Python 3",
   "language": "python",
   "name": "python3"
  },
  "language_info": {
   "codemirror_mode": {
    "name": "ipython",
    "version": 3
   },
   "file_extension": ".py",
   "mimetype": "text/x-python",
   "name": "python",
   "nbconvert_exporter": "python",
   "pygments_lexer": "ipython3",
   "version": "3.7.4"
  }
 },
 "nbformat": 4,
 "nbformat_minor": 2
}
